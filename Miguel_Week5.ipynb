{
  "cells": [
    {
      "cell_type": "markdown",
      "metadata": {
        "id": "view-in-github",
        "colab_type": "text"
      },
      "source": [
        "<a href=\"https://colab.research.google.com/github/IrfanPavel/Client-Assignment/blob/main/Miguel_Week5.ipynb\" target=\"_parent\"><img src=\"https://colab.research.google.com/assets/colab-badge.svg\" alt=\"Open In Colab\"/></a>"
      ]
    },
    {
      "cell_type": "code",
      "execution_count": null,
      "metadata": {
        "colab": {
          "background_save": true,
          "base_uri": "https://localhost:8080/",
          "height": 806
        },
        "id": "zS7Tg_SXJvwL",
        "outputId": "d3ca6d6b-3369-45eb-9031-9ea42438914f"
      },
      "outputs": [
        {
          "name": "stdout",
          "output_type": "stream",
          "text": [
            "***************** Welcome to the Python Data Analysis App**********\n",
            "You have entered Housing Data.\n",
            "You selected AGE\n",
            "The statistics for this column are:\n",
            "Count = 10042\n",
            "Mean = 47.2194781915953\n",
            "Standard Deviation = 23.149798767083293\n",
            "Min = -9\n",
            "Max = 93\n",
            "The Histogram of this column is now displayed.\n"
          ]
        },
        {
          "data": {
            "image/png": "[encoded data removed]",
            "text/plain": [
              "<Figure size 432x288 with 1 Axes>"
            ]
          },
          "metadata": {},
          "output_type": "display_data"
        }
      ],
      "source": [
        "import pandas as pd\n",
        "import matplotlib.pyplot as plt\n",
        "print(\"***************** Welcome to the Python Data Analysis App**********\")\n",
        "\n",
        "while True:\n",
        "    #Input for selecting option\n",
        "    select=int(input(\"Select the file you want to analyze:\\n1. Population Data\\n2. Housing Data\\n3. Exit the Program\\n\"))\n",
        "\n",
        "    if select==1:\n",
        "        #Making The dataframe for Popchange dataset\n",
        "        population=pd.read_csv(\"/content/PopChange.csv\")\n",
        "        print(\"You have entered Population Data.\")\n",
        "        #Input for Selecting the column\n",
        "        while True:\n",
        "            select_column=input(\"Select the Column you want to analyze:\\na. Pop Apr 1\\nb. Pop Jul 1\\nc. Change Pop\\nd. Exit Column\\n\")\n",
        "\n",
        "            if select_column==\"a\":\n",
        "                print(\"You selected Pop Apr 1\")\n",
        "                print(\"The statistics for this column are:\")\n",
        "                print(\"Count = {}\".format(population[\"Pop Apr 1\"].count()))\n",
        "                print(\"Mean = {}\".format(population[\"Pop Apr 1\"].mean()))\n",
        "                print(\"Standard Deviation = {}\".format(population[\"Pop Apr 1\"].std()))\n",
        "                print(\"Min = {}\".format(population[\"Pop Apr 1\"].min()))\n",
        "                print(\"Max = {}\".format(population[\"Pop Apr 1\"].max()))\n",
        "                print(\"The Histogram of this column is now displayed.\")\n",
        "                #Plotting in histogram\n",
        "                population[\"Pop Apr 1\"].hist()\n",
        "                plt.show()\n",
        "\n",
        "            elif select_column==\"b\":\n",
        "                print(\"You selected Pop Jul 1\")\n",
        "                print(\"The statistics for this column are:\")\n",
        "                print(\"Count = \",population[\"Pop Jul 1\"].count())\n",
        "                print(\"Mean = \",population[\"Pop Jul 1\"].mean())\n",
        "                print(\"Standard Deviation = {}\".format(population[\"Pop Jul 1\"].std()))\n",
        "                print(\"Min = {}\".format(population[\"Pop Jul 1\"].min()))\n",
        "                print(\"Max = {}\".format(population[\"Pop Jul 1\"].max()))\n",
        "                print(\"The Histogram of this column is now displayed.\")\n",
        "                #Plotting in histogram\n",
        "                population[\"Pop Jul 1\"].hist()\n",
        "                plt.show()\n",
        "\n",
        "            elif select_column==\"c\":\n",
        "                print(\"You selected Change Pop\")\n",
        "                print(\"The statistics for this column are:\")\n",
        "                print(\"Count = {}\".format(population[\"Change Pop\"].count()))\n",
        "                print(\"Mean = {}\".format(population[\"Change Pop\"].mean()))\n",
        "                print(\"Standard Deviation = {}\".format(population[\"Change Pop\"].std()))\n",
        "                print(\"Min = {}\".format(population[\"Change Pop\"].min()))\n",
        "                print(\"Max = {}\".format(population[\"Change Pop\"].max()))\n",
        "                print(\"The Histogram of this column is now displayed.\")\n",
        "                #Plotting in histogram\n",
        "                population[\"Change Pop\"].hist()\n",
        "                plt.show()\n",
        "            elif select_column==\"d\":\n",
        "                print(\"You selected to exit the column menu\")\n",
        "                break\n",
        "            else:\n",
        "                print(\"Invalid Input.Please provide a valid option.\")\n",
        "                \n",
        "    elif select==2:\n",
        "        #making The data Frame\n",
        "        housing=pd.read_csv(\"/content/Housing.csv\")\n",
        "        print(\"You have entered Housing Data.\")\n",
        "        while True:\n",
        "            #Input for Selecting the column\n",
        "            select_column=input(\"Select the Column you want to analyze:\\na. AGE\\nb. BEDRMS \\nc. BUILT\\nd. ROOMS\\ne. UTILITY\\nf. Exit Column\\n\")\n",
        "\n",
        "            if select_column==\"a\":\n",
        "                print(\"You selected AGE\")\n",
        "                print(\"The statistics for this column are:\")\n",
        "                print(\"Count = {}\".format(housing[\"AGE\"].count()))\n",
        "                print(\"Mean = {}\".format(housing[\"AGE\"].mean()))\n",
        "                print(\"Standard Deviation = {}\".format(housing[\"AGE\"].std()))\n",
        "                print(\"Min = {}\".format(housing[\"AGE\"].min()))\n",
        "                print(\"Max = {}\".format(housing[\"AGE\"].max()))\n",
        "                print(\"The Histogram of this column is now displayed.\")\n",
        "                #Plotting in histogram\n",
        "                housing[\"AGE\"].hist()\n",
        "                plt.show()\n",
        "            elif select_column==\"b\":\n",
        "                print(\"You selected BEDRMS\")\n",
        "                print(\"The statistics for this column are:\")\n",
        "                print(\"Count = {}\".format(housing[\"BEDRMS\"].count()))\n",
        "                print(\"Mean = {}\".format(housing[\"BEDRMS\"].mean()))\n",
        "                print(\"Standard Deviation = {}\".format(housing[\"BEDRMS\"].std()))\n",
        "                print(\"Min = {}\".format(housing[\"BEDRMS\"].min()))\n",
        "                print(\"Max = {}\".format(housing[\"BEDRMS\"].max()))\n",
        "                print(\"The Histogram of this column is now displayed.\")\n",
        "                #Plotting in histogram\n",
        "                housing[\"BEDRMS\"].hist()\n",
        "                plt.show()\n",
        "            elif select_column==\"c\":\n",
        "                print(\"You selected BUILT\")\n",
        "                print(\"The statistics for this column are:\")\n",
        "                print(\"Count = {}\".format(housing[\"BUILT\"].count()))\n",
        "                print(\"Mean = {}\".format(housing[\"BUILT\"].mean()))\n",
        "                print(\"Standard Deviation = {}\".format(housing[\"BUILT\"].std()))\n",
        "                print(\"Min = {}\".format(housing[\"BUILT\"].min()))\n",
        "                print(\"Max = {}\".format(housing[\"BUILT\"].max()))\n",
        "                print(\"The Histogram of this column is now displayed.\")\n",
        "                #Plotting in histogram\n",
        "                housing[\"BUILT\"].hist()\n",
        "                plt.show()\n",
        "            elif select_column==\"d\":\n",
        "                print(\"You selected ROOMS\")\n",
        "                print(\"The statistics for this column are:\")\n",
        "                print(\"Count = {}\".format(housing[\"ROOMS\"].count()))\n",
        "                print(\"Mean = {}\".format(housing[\"ROOMS\"].mean()))\n",
        "                print(\"Standard Deviation = {}\".format(housing[\"ROOMS\"].std()))\n",
        "                print(\"Min = {}\".format(housing[\"ROOMS\"].min()))\n",
        "                print(\"Max = {}\".format(housing[\"ROOMS\"].max()))\n",
        "                print(\"The Histogram of this column is now displayed.\")\n",
        "                #Plotting in histogram\n",
        "                housing[\"ROOMS\"].hist()\n",
        "                plt.show()\n",
        "            elif select_column==\"e\":\n",
        "                print(\"You selected UTILITY\")\n",
        "                print(\"The statistics for this column are:\")\n",
        "                print(\"Count = {}\".format(housing[\"UTILITY\"].count()))\n",
        "                print(\"Mean = {}\".format(housing[\"UTILITY\"].mean()))\n",
        "                print(\"Standard Deviation = {}\".format(housing[\"UTILITY\"].std()))\n",
        "                print(\"Min = {}\".format(housing[\"UTILITY\"].min()))\n",
        "                print(\"Max = {}\".format(housing[\"UTILITY\"].max()))\n",
        "                print(\"The Histogram of this column is now displayed.\")\n",
        "                #Plotting in histogram\n",
        "                housing[\"UTILITY\"].hist()\n",
        "                plt.show()\n",
        "            elif select_column==\"f\":\n",
        "                print(\"You selected to exit the column menu\")\n",
        "                break\n",
        "            else:\n",
        "                print(\"Invalid Input.Please provide a valid option\")\n",
        "    elif select==3:\n",
        "        print(\"*************** Thanks for using the Data Analysis App**********\")\n",
        "        break\n",
        "    else:\n",
        "        print(\"Invalid Input.Please provide a valid option.\")\n",
        "\n",
        "\n",
        "\n",
        "\n",
        "\n",
        "\n",
        "\n",
        "\n",
        "\n",
        "\n",
        "\n",
        "\n",
        "\n",
        "\n"
      ]
    },
    {
      "cell_type": "code",
      "execution_count": null,
      "metadata": {
        "colab": {
          "base_uri": "https://localhost:8080/",
          "height": 423
        },
        "id": "GFmvM3OoogNp",
        "outputId": "ed32f0bd-ffaa-4656-9c67-15166e41789f"
      },
      "outputs": [
        {
          "data": {
            "text/html": [
              "\n",
              "  <div id=\"df-e226dfe1-0093-40fa-9e17-48aef72e24c2\">\n",
              "    <div class=\"colab-df-container\">\n",
              "      <div>\n",
              "<style scoped>\n",
              "    .dataframe tbody tr th:only-of-type {\n",
              "        vertical-align: middle;\n",
              "    }\n",
              "\n",
              "    .dataframe tbody tr th {\n",
              "        vertical-align: top;\n",
              "    }\n",
              "\n",
              "    .dataframe thead th {\n",
              "        text-align: right;\n",
              "    }\n",
              "</style>\n",
              "<table border=\"1\" class=\"dataframe\">\n",
              "  <thead>\n",
              "    <tr style=\"text-align: right;\">\n",
              "      <th></th>\n",
              "      <th>AGE</th>\n",
              "      <th>BEDRMS</th>\n",
              "      <th>BUILT</th>\n",
              "      <th>NUNITS</th>\n",
              "      <th>ROOMS</th>\n",
              "      <th>WEIGHT</th>\n",
              "      <th>UTILITY</th>\n",
              "    </tr>\n",
              "  </thead>\n",
              "  <tbody>\n",
              "    <tr>\n",
              "      <th>0</th>\n",
              "      <td>82</td>\n",
              "      <td>2</td>\n",
              "      <td>2006</td>\n",
              "      <td>1</td>\n",
              "      <td>6</td>\n",
              "      <td>3117.394239</td>\n",
              "      <td>169.000000</td>\n",
              "    </tr>\n",
              "    <tr>\n",
              "      <th>1</th>\n",
              "      <td>50</td>\n",
              "      <td>4</td>\n",
              "      <td>1980</td>\n",
              "      <td>1</td>\n",
              "      <td>6</td>\n",
              "      <td>2150.725544</td>\n",
              "      <td>245.333333</td>\n",
              "    </tr>\n",
              "    <tr>\n",
              "      <th>2</th>\n",
              "      <td>53</td>\n",
              "      <td>4</td>\n",
              "      <td>1985</td>\n",
              "      <td>1</td>\n",
              "      <td>7</td>\n",
              "      <td>2213.789404</td>\n",
              "      <td>159.000000</td>\n",
              "    </tr>\n",
              "    <tr>\n",
              "      <th>3</th>\n",
              "      <td>67</td>\n",
              "      <td>3</td>\n",
              "      <td>1985</td>\n",
              "      <td>1</td>\n",
              "      <td>6</td>\n",
              "      <td>2364.585097</td>\n",
              "      <td>179.000000</td>\n",
              "    </tr>\n",
              "    <tr>\n",
              "      <th>4</th>\n",
              "      <td>26</td>\n",
              "      <td>2</td>\n",
              "      <td>1980</td>\n",
              "      <td>100</td>\n",
              "      <td>4</td>\n",
              "      <td>2314.524902</td>\n",
              "      <td>146.000000</td>\n",
              "    </tr>\n",
              "    <tr>\n",
              "      <th>...</th>\n",
              "      <td>...</td>\n",
              "      <td>...</td>\n",
              "      <td>...</td>\n",
              "      <td>...</td>\n",
              "      <td>...</td>\n",
              "      <td>...</td>\n",
              "      <td>...</td>\n",
              "    </tr>\n",
              "    <tr>\n",
              "      <th>10037</th>\n",
              "      <td>44</td>\n",
              "      <td>3</td>\n",
              "      <td>1990</td>\n",
              "      <td>1</td>\n",
              "      <td>6</td>\n",
              "      <td>4388.506455</td>\n",
              "      <td>198.000000</td>\n",
              "    </tr>\n",
              "    <tr>\n",
              "      <th>10038</th>\n",
              "      <td>22</td>\n",
              "      <td>2</td>\n",
              "      <td>1980</td>\n",
              "      <td>10</td>\n",
              "      <td>4</td>\n",
              "      <td>2360.638486</td>\n",
              "      <td>25.000000</td>\n",
              "    </tr>\n",
              "    <tr>\n",
              "      <th>10039</th>\n",
              "      <td>32</td>\n",
              "      <td>2</td>\n",
              "      <td>1980</td>\n",
              "      <td>12</td>\n",
              "      <td>4</td>\n",
              "      <td>2279.359976</td>\n",
              "      <td>149.000000</td>\n",
              "    </tr>\n",
              "    <tr>\n",
              "      <th>10040</th>\n",
              "      <td>-9</td>\n",
              "      <td>0</td>\n",
              "      <td>1985</td>\n",
              "      <td>16</td>\n",
              "      <td>2</td>\n",
              "      <td>1606.429760</td>\n",
              "      <td>100.000000</td>\n",
              "    </tr>\n",
              "    <tr>\n",
              "      <th>10041</th>\n",
              "      <td>50</td>\n",
              "      <td>2</td>\n",
              "      <td>1985</td>\n",
              "      <td>4</td>\n",
              "      <td>6</td>\n",
              "      <td>798.968806</td>\n",
              "      <td>189.000000</td>\n",
              "    </tr>\n",
              "  </tbody>\n",
              "</table>\n",
              "<p>10042 rows × 7 columns</p>\n",
              "</div>\n",
              "      <button class=\"colab-df-convert\" onclick=\"convertToInteractive('df-e226dfe1-0093-40fa-9e17-48aef72e24c2')\"\n",
              "              title=\"Convert this dataframe to an interactive table.\"\n",
              "              style=\"display:none;\">\n",
              "        \n",
              "  <svg xmlns=\"http://www.w3.org/2000/svg\" height=\"24px\"viewBox=\"0 0 24 24\"\n",
              "       width=\"24px\">\n",
              "    <path d=\"M0 0h24v24H0V0z\" fill=\"none\"/>\n",
              "    <path d=\"M18.56 5.44l.94 2.06.94-2.06 2.06-.94-2.06-.94-.94-2.06-.94 2.06-2.06.94zm-11 1L8.5 8.5l.94-2.06 2.06-.94-2.06-.94L8.5 2.5l-.94 2.06-2.06.94zm10 10l.94 2.06.94-2.06 2.06-.94-2.06-.94-.94-2.06-.94 2.06-2.06.94z\"/><path d=\"M17.41 7.96l-1.37-1.37c-.4-.4-.92-.59-1.43-.59-.52 0-1.04.2-1.43.59L10.3 9.45l-7.72 7.72c-.78.78-.78 2.05 0 2.83L4 21.41c.39.39.9.59 1.41.59.51 0 1.02-.2 1.41-.59l7.78-7.78 2.81-2.81c.8-.78.8-2.07 0-2.86zM5.41 20L4 18.59l7.72-7.72 1.47 1.35L5.41 20z\"/>\n",
              "  </svg>\n",
              "      </button>\n",
              "      \n",
              "  <style>\n",
              "    .colab-df-container {\n",
              "      display:flex;\n",
              "      flex-wrap:wrap;\n",
              "      gap: 12px;\n",
              "    }\n",
              "\n",
              "    .colab-df-convert {\n",
              "      background-color: #E8F0FE;\n",
              "      border: none;\n",
              "      border-radius: 50%;\n",
              "      cursor: pointer;\n",
              "      display: none;\n",
              "      fill: #1967D2;\n",
              "      height: 32px;\n",
              "      padding: 0 0 0 0;\n",
              "      width: 32px;\n",
              "    }\n",
              "\n",
              "    .colab-df-convert:hover {\n",
              "      background-color: #E2EBFA;\n",
              "      box-shadow: 0px 1px 2px rgba(60, 64, 67, 0.3), 0px 1px 3px 1px rgba(60, 64, 67, 0.15);\n",
              "      fill: #174EA6;\n",
              "    }\n",
              "\n",
              "    [theme=dark] .colab-df-convert {\n",
              "      background-color: #3B4455;\n",
              "      fill: #D2E3FC;\n",
              "    }\n",
              "\n",
              "    [theme=dark] .colab-df-convert:hover {\n",
              "      background-color: #434B5C;\n",
              "      box-shadow: 0px 1px 3px 1px rgba(0, 0, 0, 0.15);\n",
              "      filter: drop-shadow(0px 1px 2px rgba(0, 0, 0, 0.3));\n",
              "      fill: #FFFFFF;\n",
              "    }\n",
              "  </style>\n",
              "\n",
              "      <script>\n",
              "        const buttonEl =\n",
              "          document.querySelector('#df-e226dfe1-0093-40fa-9e17-48aef72e24c2 button.colab-df-convert');\n",
              "        buttonEl.style.display =\n",
              "          google.colab.kernel.accessAllowed ? 'block' : 'none';\n",
              "\n",
              "        async function convertToInteractive(key) {\n",
              "          const element = document.querySelector('#df-e226dfe1-0093-40fa-9e17-48aef72e24c2');\n",
              "          const dataTable =\n",
              "            await google.colab.kernel.invokeFunction('convertToInteractive',\n",
              "                                                     [key], {});\n",
              "          if (!dataTable) return;\n",
              "\n",
              "          const docLinkHtml = 'Like what you see? Visit the ' +\n",
              "            '<a target=\"_blank\" href=https://colab.research.google.com/notebooks/data_table.ipynb>data table notebook</a>'\n",
              "            + ' to learn more about interactive tables.';\n",
              "          element.innerHTML = '';\n",
              "          dataTable['output_type'] = 'display_data';\n",
              "          await google.colab.output.renderOutput(dataTable, element);\n",
              "          const docLink = document.createElement('div');\n",
              "          docLink.innerHTML = docLinkHtml;\n",
              "          element.appendChild(docLink);\n",
              "        }\n",
              "      </script>\n",
              "    </div>\n",
              "  </div>\n",
              "  "
            ],
            "text/plain": [
              "       AGE  BEDRMS  BUILT  NUNITS  ROOMS       WEIGHT     UTILITY\n",
              "0       82       2   2006       1      6  3117.394239  169.000000\n",
              "1       50       4   1980       1      6  2150.725544  245.333333\n",
              "2       53       4   1985       1      7  2213.789404  159.000000\n",
              "3       67       3   1985       1      6  2364.585097  179.000000\n",
              "4       26       2   1980     100      4  2314.524902  146.000000\n",
              "...    ...     ...    ...     ...    ...          ...         ...\n",
              "10037   44       3   1990       1      6  4388.506455  198.000000\n",
              "10038   22       2   1980      10      4  2360.638486   25.000000\n",
              "10039   32       2   1980      12      4  2279.359976  149.000000\n",
              "10040   -9       0   1985      16      2  1606.429760  100.000000\n",
              "10041   50       2   1985       4      6   798.968806  189.000000\n",
              "\n",
              "[10042 rows x 7 columns]"
            ]
          },
          "execution_count": 4,
          "metadata": {},
          "output_type": "execute_result"
        }
      ],
      "source": [
        "Housing"
      ]
    },
    {
      "cell_type": "code",
      "execution_count": null,
      "metadata": {
        "colab": {
          "base_uri": "https://localhost:8080/",
          "height": 423
        },
        "id": "D0hylHfUojWv",
        "outputId": "7a966ca6-8d59-4e31-d9ea-a0c6bb231c95"
      },
      "outputs": [
        {
          "data": {
            "text/html": [
              "\n",
              "  <div id=\"df-a6ee1415-1094-4045-8357-0ea55a3c870f\">\n",
              "    <div class=\"colab-df-container\">\n",
              "      <div>\n",
              "<style scoped>\n",
              "    .dataframe tbody tr th:only-of-type {\n",
              "        vertical-align: middle;\n",
              "    }\n",
              "\n",
              "    .dataframe tbody tr th {\n",
              "        vertical-align: top;\n",
              "    }\n",
              "\n",
              "    .dataframe thead th {\n",
              "        text-align: right;\n",
              "    }\n",
              "</style>\n",
              "<table border=\"1\" class=\"dataframe\">\n",
              "  <thead>\n",
              "    <tr style=\"text-align: right;\">\n",
              "      <th></th>\n",
              "      <th>Id</th>\n",
              "      <th>Geography</th>\n",
              "      <th>Target Geo Id</th>\n",
              "      <th>Target Geo Id2</th>\n",
              "      <th>Pop Apr 1</th>\n",
              "      <th>Pop Jul 1</th>\n",
              "      <th>Change Pop</th>\n",
              "    </tr>\n",
              "  </thead>\n",
              "  <tbody>\n",
              "    <tr>\n",
              "      <th>0</th>\n",
              "      <td>0100000US</td>\n",
              "      <td>United States</td>\n",
              "      <td>310M400US10100</td>\n",
              "      <td>10100</td>\n",
              "      <td>40603</td>\n",
              "      <td>43191</td>\n",
              "      <td>2588</td>\n",
              "    </tr>\n",
              "    <tr>\n",
              "      <th>1</th>\n",
              "      <td>0100000US</td>\n",
              "      <td>United States</td>\n",
              "      <td>310M400US10140</td>\n",
              "      <td>10140</td>\n",
              "      <td>72798</td>\n",
              "      <td>73901</td>\n",
              "      <td>1103</td>\n",
              "    </tr>\n",
              "    <tr>\n",
              "      <th>2</th>\n",
              "      <td>0100000US</td>\n",
              "      <td>United States</td>\n",
              "      <td>310M400US10220</td>\n",
              "      <td>10220</td>\n",
              "      <td>37490</td>\n",
              "      <td>38247</td>\n",
              "      <td>757</td>\n",
              "    </tr>\n",
              "    <tr>\n",
              "      <th>3</th>\n",
              "      <td>0100000US</td>\n",
              "      <td>United States</td>\n",
              "      <td>310M400US10300</td>\n",
              "      <td>10300</td>\n",
              "      <td>99892</td>\n",
              "      <td>98266</td>\n",
              "      <td>-1626</td>\n",
              "    </tr>\n",
              "    <tr>\n",
              "      <th>4</th>\n",
              "      <td>0100000US</td>\n",
              "      <td>United States</td>\n",
              "      <td>310M400US10460</td>\n",
              "      <td>10460</td>\n",
              "      <td>63832</td>\n",
              "      <td>66781</td>\n",
              "      <td>2949</td>\n",
              "    </tr>\n",
              "    <tr>\n",
              "      <th>...</th>\n",
              "      <td>...</td>\n",
              "      <td>...</td>\n",
              "      <td>...</td>\n",
              "      <td>...</td>\n",
              "      <td>...</td>\n",
              "      <td>...</td>\n",
              "      <td>...</td>\n",
              "    </tr>\n",
              "    <tr>\n",
              "      <th>552</th>\n",
              "      <td>0100000US</td>\n",
              "      <td>United States</td>\n",
              "      <td>310M400US10260</td>\n",
              "      <td>10260</td>\n",
              "      <td>19483</td>\n",
              "      <td>17302</td>\n",
              "      <td>-2181</td>\n",
              "    </tr>\n",
              "    <tr>\n",
              "      <th>553</th>\n",
              "      <td>0100000US</td>\n",
              "      <td>United States</td>\n",
              "      <td>310M400US17620</td>\n",
              "      <td>17620</td>\n",
              "      <td>40512</td>\n",
              "      <td>37845</td>\n",
              "      <td>-2667</td>\n",
              "    </tr>\n",
              "    <tr>\n",
              "      <th>554</th>\n",
              "      <td>0100000US</td>\n",
              "      <td>United States</td>\n",
              "      <td>310M400US17640</td>\n",
              "      <td>17640</td>\n",
              "      <td>31078</td>\n",
              "      <td>27083</td>\n",
              "      <td>-3995</td>\n",
              "    </tr>\n",
              "    <tr>\n",
              "      <th>555</th>\n",
              "      <td>0100000US</td>\n",
              "      <td>United States</td>\n",
              "      <td>310M400US27580</td>\n",
              "      <td>27580</td>\n",
              "      <td>16642</td>\n",
              "      <td>13947</td>\n",
              "      <td>-2695</td>\n",
              "    </tr>\n",
              "    <tr>\n",
              "      <th>556</th>\n",
              "      <td>0100000US</td>\n",
              "      <td>United States</td>\n",
              "      <td>310M400US42180</td>\n",
              "      <td>42180</td>\n",
              "      <td>23274</td>\n",
              "      <td>21037</td>\n",
              "      <td>-2237</td>\n",
              "    </tr>\n",
              "  </tbody>\n",
              "</table>\n",
              "<p>557 rows × 7 columns</p>\n",
              "</div>\n",
              "      <button class=\"colab-df-convert\" onclick=\"convertToInteractive('df-a6ee1415-1094-4045-8357-0ea55a3c870f')\"\n",
              "              title=\"Convert this dataframe to an interactive table.\"\n",
              "              style=\"display:none;\">\n",
              "        \n",
              "  <svg xmlns=\"http://www.w3.org/2000/svg\" height=\"24px\"viewBox=\"0 0 24 24\"\n",
              "       width=\"24px\">\n",
              "    <path d=\"M0 0h24v24H0V0z\" fill=\"none\"/>\n",
              "    <path d=\"M18.56 5.44l.94 2.06.94-2.06 2.06-.94-2.06-.94-.94-2.06-.94 2.06-2.06.94zm-11 1L8.5 8.5l.94-2.06 2.06-.94-2.06-.94L8.5 2.5l-.94 2.06-2.06.94zm10 10l.94 2.06.94-2.06 2.06-.94-2.06-.94-.94-2.06-.94 2.06-2.06.94z\"/><path d=\"M17.41 7.96l-1.37-1.37c-.4-.4-.92-.59-1.43-.59-.52 0-1.04.2-1.43.59L10.3 9.45l-7.72 7.72c-.78.78-.78 2.05 0 2.83L4 21.41c.39.39.9.59 1.41.59.51 0 1.02-.2 1.41-.59l7.78-7.78 2.81-2.81c.8-.78.8-2.07 0-2.86zM5.41 20L4 18.59l7.72-7.72 1.47 1.35L5.41 20z\"/>\n",
              "  </svg>\n",
              "      </button>\n",
              "      \n",
              "  <style>\n",
              "    .colab-df-container {\n",
              "      display:flex;\n",
              "      flex-wrap:wrap;\n",
              "      gap: 12px;\n",
              "    }\n",
              "\n",
              "    .colab-df-convert {\n",
              "      background-color: #E8F0FE;\n",
              "      border: none;\n",
              "      border-radius: 50%;\n",
              "      cursor: pointer;\n",
              "      display: none;\n",
              "      fill: #1967D2;\n",
              "      height: 32px;\n",
              "      padding: 0 0 0 0;\n",
              "      width: 32px;\n",
              "    }\n",
              "\n",
              "    .colab-df-convert:hover {\n",
              "      background-color: #E2EBFA;\n",
              "      box-shadow: 0px 1px 2px rgba(60, 64, 67, 0.3), 0px 1px 3px 1px rgba(60, 64, 67, 0.15);\n",
              "      fill: #174EA6;\n",
              "    }\n",
              "\n",
              "    [theme=dark] .colab-df-convert {\n",
              "      background-color: #3B4455;\n",
              "      fill: #D2E3FC;\n",
              "    }\n",
              "\n",
              "    [theme=dark] .colab-df-convert:hover {\n",
              "      background-color: #434B5C;\n",
              "      box-shadow: 0px 1px 3px 1px rgba(0, 0, 0, 0.15);\n",
              "      filter: drop-shadow(0px 1px 2px rgba(0, 0, 0, 0.3));\n",
              "      fill: #FFFFFF;\n",
              "    }\n",
              "  </style>\n",
              "\n",
              "      <script>\n",
              "        const buttonEl =\n",
              "          document.querySelector('#df-a6ee1415-1094-4045-8357-0ea55a3c870f button.colab-df-convert');\n",
              "        buttonEl.style.display =\n",
              "          google.colab.kernel.accessAllowed ? 'block' : 'none';\n",
              "\n",
              "        async function convertToInteractive(key) {\n",
              "          const element = document.querySelector('#df-a6ee1415-1094-4045-8357-0ea55a3c870f');\n",
              "          const dataTable =\n",
              "            await google.colab.kernel.invokeFunction('convertToInteractive',\n",
              "                                                     [key], {});\n",
              "          if (!dataTable) return;\n",
              "\n",
              "          const docLinkHtml = 'Like what you see? Visit the ' +\n",
              "            '<a target=\"_blank\" href=https://colab.research.google.com/notebooks/data_table.ipynb>data table notebook</a>'\n",
              "            + ' to learn more about interactive tables.';\n",
              "          element.innerHTML = '';\n",
              "          dataTable['output_type'] = 'display_data';\n",
              "          await google.colab.output.renderOutput(dataTable, element);\n",
              "          const docLink = document.createElement('div');\n",
              "          docLink.innerHTML = docLinkHtml;\n",
              "          element.appendChild(docLink);\n",
              "        }\n",
              "      </script>\n",
              "    </div>\n",
              "  </div>\n",
              "  "
            ],
            "text/plain": [
              "            Id      Geography   Target Geo Id  ...  Pop Apr 1  Pop Jul 1  Change Pop\n",
              "0    0100000US  United States  310M400US10100  ...      40603      43191        2588\n",
              "1    0100000US  United States  310M400US10140  ...      72798      73901        1103\n",
              "2    0100000US  United States  310M400US10220  ...      37490      38247         757\n",
              "3    0100000US  United States  310M400US10300  ...      99892      98266       -1626\n",
              "4    0100000US  United States  310M400US10460  ...      63832      66781        2949\n",
              "..         ...            ...             ...  ...        ...        ...         ...\n",
              "552  0100000US  United States  310M400US10260  ...      19483      17302       -2181\n",
              "553  0100000US  United States  310M400US17620  ...      40512      37845       -2667\n",
              "554  0100000US  United States  310M400US17640  ...      31078      27083       -3995\n",
              "555  0100000US  United States  310M400US27580  ...      16642      13947       -2695\n",
              "556  0100000US  United States  310M400US42180  ...      23274      21037       -2237\n",
              "\n",
              "[557 rows x 7 columns]"
            ]
          },
          "execution_count": 5,
          "metadata": {},
          "output_type": "execute_result"
        }
      ],
      "source": [
        "PopChange"
      ]
    },
    {
      "cell_type": "code",
      "execution_count": null,
      "metadata": {
        "colab": {
          "base_uri": "https://localhost:8080/"
        },
        "id": "hIldjaTdpgrs",
        "outputId": "4d16ab1e-5ded-416a-ad0c-317f29cb39c7"
      },
      "outputs": [
        {
          "data": {
            "text/plain": [
              "557"
            ]
          },
          "execution_count": 17,
          "metadata": {},
          "output_type": "execute_result"
        }
      ],
      "source": [
        "PopChange[\"Pop Apr 1\"].count()"
      ]
    },
    {
      "cell_type": "code",
      "execution_count": null,
      "metadata": {
        "colab": {
          "base_uri": "https://localhost:8080/"
        },
        "id": "JsyfJSl-r8gz",
        "outputId": "05c195fe-385d-407c-b316-e42b46eaf210"
      },
      "outputs": [
        {
          "data": {
            "text/plain": [
              "56557.314183123875"
            ]
          },
          "execution_count": 18,
          "metadata": {},
          "output_type": "execute_result"
        }
      ],
      "source": [
        "PopChange[\"Pop Apr 1\"].mean()"
      ]
    },
    {
      "cell_type": "code",
      "execution_count": null,
      "metadata": {
        "colab": {
          "base_uri": "https://localhost:8080/"
        },
        "id": "ktF6MH-DsCbc",
        "outputId": "afb906a8-414f-4e92-91ec-dbac8a907818"
      },
      "outputs": [
        {
          "data": {
            "text/plain": [
              "158127.10545434814"
            ]
          },
          "execution_count": 19,
          "metadata": {},
          "output_type": "execute_result"
        }
      ],
      "source": [
        "PopChange[\"Pop Apr 1\"].std()"
      ]
    },
    {
      "cell_type": "code",
      "execution_count": null,
      "metadata": {
        "colab": {
          "base_uri": "https://localhost:8080/"
        },
        "id": "8LzFnkG7sJsq",
        "outputId": "ac519d18-f94a-49ac-9b13-4a2aca2597b8"
      },
      "outputs": [
        {
          "data": {
            "text/plain": [
              "13519"
            ]
          },
          "execution_count": 20,
          "metadata": {},
          "output_type": "execute_result"
        }
      ],
      "source": [
        "PopChange[\"Pop Apr 1\"].min()"
      ]
    },
    {
      "cell_type": "code",
      "execution_count": null,
      "metadata": {
        "colab": {
          "base_uri": "https://localhost:8080/"
        },
        "id": "P7CH1Ya_sOO9",
        "outputId": "8222b251-bfc6-4f6a-dea3-67b6b8ee8680"
      },
      "outputs": [
        {
          "data": {
            "text/plain": [
              "3726157"
            ]
          },
          "execution_count": 21,
          "metadata": {},
          "output_type": "execute_result"
        }
      ],
      "source": [
        "PopChange[\"Pop Apr 1\"].max()"
      ]
    },
    {
      "cell_type": "code",
      "execution_count": null,
      "metadata": {
        "id": "MrY1zmqasV7c"
      },
      "outputs": [],
      "source": [
        "import matplotlib.pyplot as plt"
      ]
    },
    {
      "cell_type": "code",
      "execution_count": null,
      "metadata": {
        "colab": {
          "base_uri": "https://localhost:8080/",
          "height": 278
        },
        "id": "XlEnJ52rsbSD",
        "outputId": "3036d074-6273-43c2-d356-400f9954e73a"
      },
      "outputs": [
        {
          "data": {
            "image/png": "[encoded data removed]",
            "text/plain": [
              "<Figure size 432x288 with 1 Axes>"
            ]
          },
          "metadata": {},
          "output_type": "display_data"
        }
      ],
      "source": [
        "PopChange[\"Pop Jul 1\"].hist();"
      ]
    },
    {
      "cell_type": "code",
      "execution_count": null,
      "metadata": {
        "colab": {
          "base_uri": "https://localhost:8080/"
        },
        "id": "Fc-RhzmMqQRf",
        "outputId": "1c5938fb-6ff6-4f4d-c590-ad4f211244c5"
      },
      "outputs": [
        {
          "data": {
            "text/plain": [
              "count    5.570000e+02\n",
              "mean     5.655731e+04\n",
              "std      1.581271e+05\n",
              "min      1.351900e+04\n",
              "25%      3.195300e+04\n",
              "50%      4.297900e+04\n",
              "75%      6.170000e+04\n",
              "max      3.726157e+06\n",
              "Name: Pop Apr 1, dtype: float64"
            ]
          },
          "execution_count": 11,
          "metadata": {},
          "output_type": "execute_result"
        }
      ],
      "source": [
        "Miguel"
      ]
    },
    {
      "cell_type": "code",
      "execution_count": null,
      "metadata": {
        "colab": {
          "base_uri": "https://localhost:8080/",
          "height": 286
        },
        "id": "F5jLm4kgt6yS",
        "outputId": "298f7fcd-6f10-4a19-d9db-f251ccf40790"
      },
      "outputs": [
        {
          "data": {
            "text/plain": [
              "<matplotlib.axes._subplots.AxesSubplot at 0x7f5c86c19350>"
            ]
          },
          "execution_count": 34,
          "metadata": {},
          "output_type": "execute_result"
        },
        {
          "data": {
            "image/png": "[encoded data removed]",
            "text/plain": [
              "<Figure size 432x288 with 1 Axes>"
            ]
          },
          "metadata": {},
          "output_type": "display_data"
        }
      ],
      "source": [
        "Housing[\"AGE\"].hist(bins=50)"
      ]
    },
    {
      "cell_type": "code",
      "execution_count": null,
      "metadata": {
        "id": "Yuajv38hrL6y"
      },
      "outputs": [],
      "source": [
        " df.drop(7,0,inplace=True)"
      ]
    }
  ],
  "metadata": {
    "colab": {
      "name": "Miguel Week5.ipynb",
      "provenance": [],
      "include_colab_link": true
    },
    "kernelspec": {
      "display_name": "Python 3",
      "name": "python3"
    },
    "language_info": {
      "name": "python"
    }
  },
  "nbformat": 4,
  "nbformat_minor": 0
}